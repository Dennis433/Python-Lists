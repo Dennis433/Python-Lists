{
 "cells": [
  {
   "cell_type": "markdown",
   "id": "782f90e5",
   "metadata": {},
   "source": [
    "### Creating a list\n",
    "n Python, a list is a built-in data type used to store an ordered collection of items. These items can be of any data type, such as integers, strings, floats, or even other lists. Lists are mutable, meaning their elements can be changed after the list is created.\n",
    "\n",
    "Here's a basic example of creating and working with a list in Python:"
   ]
  },
  {
   "cell_type": "code",
   "execution_count": 8,
   "id": "90f3d056",
   "metadata": {},
   "outputs": [],
   "source": [
    "my_list = [1, 2, 3, \"apple\", \"banana\", 4.5, [6, 7]]"
   ]
  },
  {
   "cell_type": "code",
   "execution_count": 9,
   "id": "81b91d42",
   "metadata": {},
   "outputs": [
    {
     "name": "stdout",
     "output_type": "stream",
     "text": [
      "1\n",
      "apple\n",
      "[6, 7]\n"
     ]
    }
   ],
   "source": [
    "# Accessing elements in a list\n",
    "print(my_list[0])       # Output: 1\n",
    "print(my_list[3])       # Output: \"apple\"\n",
    "print(my_list[-1])      # Output: [6, 7]"
   ]
  },
  {
   "cell_type": "code",
   "execution_count": 10,
   "id": "83bd536d",
   "metadata": {},
   "outputs": [
    {
     "name": "stdout",
     "output_type": "stream",
     "text": [
      "[2, 3, 'apple']\n"
     ]
    }
   ],
   "source": [
    "# Slicing a list\n",
    "print(my_list[1:4])     # Output: [2, 3, \"apple\"]"
   ]
  },
  {
   "cell_type": "code",
   "execution_count": 11,
   "id": "30b8c0fc",
   "metadata": {},
   "outputs": [
    {
     "name": "stdout",
     "output_type": "stream",
     "text": [
      "[100, 2, 3, 'apple', 'banana', 4.5, [6, 7]]\n"
     ]
    }
   ],
   "source": [
    "# Modifying elements in a list\n",
    "my_list[0] = 100\n",
    "print(my_list)          # Output: [100, 2, 3, \"apple\", \"banana\", 4.5, [6, 7]]"
   ]
  },
  {
   "cell_type": "code",
   "execution_count": 12,
   "id": "541306bb",
   "metadata": {},
   "outputs": [
    {
     "name": "stdout",
     "output_type": "stream",
     "text": [
      "[100, 2, 3, 'apple', 'banana', 4.5, [6, 7], 'orange']\n"
     ]
    }
   ],
   "source": [
    "# Adding elements to a list\n",
    "my_list.append(\"orange\")\n",
    "print(my_list)          # Output: [100, 2, 3, \"apple\", \"banana\", 4.5, [6, 7], \"orange\"]"
   ]
  },
  {
   "cell_type": "code",
   "execution_count": 13,
   "id": "718c80ac",
   "metadata": {},
   "outputs": [
    {
     "name": "stdout",
     "output_type": "stream",
     "text": [
      "3\n",
      "[100, 2, 'apple', 'banana', 4.5, [6, 7], 'orange']\n"
     ]
    }
   ],
   "source": [
    "# Removing elements from a list\n",
    "removed_item = my_list.pop(2)\n",
    "print(removed_item)     # Output: 3\n",
    "print(my_list)          # Output: [100, 2, \"apple\", \"banana\", 4.5, [6, 7], \"orange\"]"
   ]
  },
  {
   "cell_type": "markdown",
   "id": "2d353f4e",
   "metadata": {},
   "source": [
    "### Using Individual Values from a List"
   ]
  },
  {
   "cell_type": "code",
   "execution_count": null,
   "id": "cb133d0a",
   "metadata": {},
   "outputs": [],
   "source": []
  }
 ],
 "metadata": {
  "kernelspec": {
   "display_name": "Python 3 (ipykernel)",
   "language": "python",
   "name": "python3"
  },
  "language_info": {
   "codemirror_mode": {
    "name": "ipython",
    "version": 3
   },
   "file_extension": ".py",
   "mimetype": "text/x-python",
   "name": "python",
   "nbconvert_exporter": "python",
   "pygments_lexer": "ipython3",
   "version": "3.9.12"
  }
 },
 "nbformat": 4,
 "nbformat_minor": 5
}
